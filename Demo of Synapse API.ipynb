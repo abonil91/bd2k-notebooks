{
 "cells": [
  {
   "cell_type": "markdown",
   "metadata": {},
   "source": [
    "# Demo of Synapse API"
   ]
  },
  {
   "cell_type": "markdown",
   "metadata": {},
   "source": [
    "This notebook demonstrates how to upload files, create tables, add annotations, and modify permissions for the NCANDA Project using the Synapse API for Python."
   ]
  },
  {
   "cell_type": "markdown",
   "metadata": {},
   "source": [
    "## Log onto Synapse"
   ]
  },
  {
   "cell_type": "markdown",
   "metadata": {},
   "source": [
    "This is the code used to Log onto Synapse"
   ]
  },
  {
   "cell_type": "code",
   "execution_count": 1,
   "metadata": {
    "collapsed": false
   },
   "outputs": [
    {
     "name": "stdout",
     "output_type": "stream",
     "text": [
      "Welcome, abonil91!\n"
     ]
    }
   ],
   "source": [
    "import os\n",
    "import synapseclient\n",
    "import yaml\n",
    "\n",
    "syn = synapseclient.Synapse()\n",
    "\n",
    "config = yaml.load(open(os.path.join(os.path.expanduser(\"~\"),\".server_config/synapse.cfg\")))\n",
    "\n",
    "syn.login(config.get('user'), config.get('password'))"
   ]
  },
  {
   "cell_type": "markdown",
   "metadata": {},
   "source": [
    "## Uploading Data to the NCANDA Project"
   ]
  },
  {
   "cell_type": "markdown",
   "metadata": {},
   "source": [
    "This section shows how to upload a file onto the NCANDA Project using the API.\n",
    "\n",
    "First, the necessary libaries are importated."
   ]
  },
  {
   "cell_type": "code",
   "execution_count": 2,
   "metadata": {
    "collapsed": true
   },
   "outputs": [],
   "source": [
    "from synapseclient import Project, Folder, File"
   ]
  },
  {
   "cell_type": "markdown",
   "metadata": {},
   "source": [
    "The Code to Create a Project:\n",
    "\n",
    "    project = Project('My uniquely named project')\n",
    "    project = syn.store(project)\n",
    "\n",
    "The Code to Create a File:\n",
    "\n",
    "    data_folder = Folder('Data', parent=project)\n",
    "    data_folder = syn.store(data_folder)\n",
    "\n",
    "The Code to Add File:\n",
    "\n",
    "       test_entity = File('/path/to/data/file.xyz', description='Fancy new data', parent=data_folder)\n",
    "       test_entity = syn.store(test_entity)"
   ]
  },
  {
   "cell_type": "markdown",
   "metadata": {
    "collapsed": false
   },
   "source": [
    "### Example Upload "
   ]
  },
  {
   "cell_type": "code",
   "execution_count": 3,
   "metadata": {
    "collapsed": false
   },
   "outputs": [
    {
     "name": "stdout",
     "output_type": "stream",
     "text": [
      "\n",
      "##################################################\n",
      " Uploading file to Synapse storage \n",
      "##################################################\n",
      "Uploaded Chunks [####################]100.00%     23.0bytes/23.0bytes ./examplefile.csv Done...\n",
      "Upload completed in 3 seconds.\n"
     ]
    }
   ],
   "source": [
    "###Select Project###\n",
    "project = syn.get('syn3565171')\n",
    "\n",
    "###Creating Folder in Project###\n",
    "data_folder = Folder('Example_Upload', parent=project)\n",
    "data_folder = syn.store(data_folder)\n",
    "\n",
    "###Uploading File###\n",
    "example = File('./examplefile.csv', description = \"Example CSV File Upload\", parent = data_folder)\n",
    "example = syn.store(example)"
   ]
  },
  {
   "cell_type": "markdown",
   "metadata": {},
   "source": [
    "## Creating Tables"
   ]
  },
  {
   "cell_type": "markdown",
   "metadata": {},
   "source": [
    "This sections demonstrates how to create and upload tables to the NCANDA Project using the Synapse API for Python.\n",
    "\n",
    "First, the necessary libaries are importated."
   ]
  },
  {
   "cell_type": "code",
   "execution_count": 4,
   "metadata": {
    "collapsed": true
   },
   "outputs": [],
   "source": [
    "from synapseclient import Schema, Column, Table, Row, RowSet, as_table_columns"
   ]
  },
  {
   "cell_type": "markdown",
   "metadata": {},
   "source": [
    "Next, one must create columns and make a table schema using the ***Column()*** & ***Schema()*** functions."
   ]
  },
  {
   "cell_type": "code",
   "execution_count": 9,
   "metadata": {
    "collapsed": true
   },
   "outputs": [],
   "source": [
    "cols = [\n",
    "    Column(name='SUBJECT_ID', columnType='STRING', maximumSize=10),\n",
    "    Column(name='SEX', columnType='STRING', enumValues=['M', 'F'], maximumSize=1),\n",
    "    Column(name='PROTOCOL', columnType='INTEGER',enumValues=[ 1, 2, 3, 4]),\n",
    "    Column(name='YEAR', columnType='INTEGER'),\n",
    "    Column(name='MISSED_VISIT', columnType='BOOLEAN')]\n",
    "\n",
    "schema = Schema(name='Subjects_Demo', columns=cols, parent=project)"
   ]
  },
  {
   "cell_type": "markdown",
   "metadata": {},
   "source": [
    "Finally, we insert the table in the schema and store the table on Synapse."
   ]
  },
  {
   "cell_type": "code",
   "execution_count": 10,
   "metadata": {
    "collapsed": false
   },
   "outputs": [
    {
     "name": "stdout",
     "output_type": "stream",
     "text": [
      "Uploaded Chunks [####################]100.00%     161.0bytes/161.0bytes ./TableExampleFile.csv Done...\n",
      "Upload completed in 3 seconds.\n",
      " [####################]100.00%     1/1  Done...\n",
      "    "
     ]
    }
   ],
   "source": [
    "table = Table(schema, \"./TableExampleFile.csv\")\n",
    "table = syn.store(table)"
   ]
  },
  {
   "cell_type": "markdown",
   "metadata": {},
   "source": [
    "The ***Table()*** function takes two arguments, a schema object and data in some form, which can be:\n",
    "\n",
    "* path to a CSV file\n",
    "* Pandas DataFrame\n",
    "* RowSet object\n",
    "* list of lists where each of the inner lists is a row\n",
    "\n"
   ]
  },
  {
   "cell_type": "markdown",
   "metadata": {},
   "source": [
    "Below is an example how to create a table using a Pandas Dataframe."
   ]
  },
  {
   "cell_type": "code",
   "execution_count": 27,
   "metadata": {
    "collapsed": false
   },
   "outputs": [
    {
     "name": "stdout",
     "output_type": "stream",
     "text": [
      "Uploaded Chunks [####################]100.00%     161.0bytes/161.0bytes /tmp/tmpP1UMtP Done...\n",
      "Upload completed in 9 seconds.\n",
      " [####################]100.00%     1/1  Done...\n",
      "    "
     ]
    }
   ],
   "source": [
    "import pandas as pd\n",
    "\n",
    "df = pd.read_csv(\"./TableExampleFile.csv\", index_col=False)\n",
    "schema = Schema(name='Subjects_Demo', columns=as_table_columns(df), parent=project)\n",
    "table = syn.store(Table(schema, df))"
   ]
  },
  {
   "cell_type": "markdown",
   "metadata": {},
   "source": [
    "### Changing Data"
   ]
  },
  {
   "cell_type": "markdown",
   "metadata": {},
   "source": [
    "Once the schema is set, we change the table by **appending** new rows and **updating** existing ones.\n",
    "\n",
    "The following is an example of **appending** new rows."
   ]
  },
  {
   "cell_type": "code",
   "execution_count": 28,
   "metadata": {
    "collapsed": false
   },
   "outputs": [
    {
     "name": "stdout",
     "output_type": "stream",
     "text": [
      "Uploaded Chunks [####################]100.00%     161.0bytes/161.0bytes ./TableExampleFile.csv Done...\n",
      "Upload completed in 3 seconds.\n",
      " [####################]100.00%     1/1  Done...\n",
      "    "
     ]
    }
   ],
   "source": [
    "table = syn.store(Table(table.schema.id, \"./TableExampleFile.csv\"))"
   ]
  },
  {
   "cell_type": "code",
   "execution_count": 29,
   "metadata": {
    "collapsed": false
   },
   "outputs": [
    {
     "name": "stdout",
     "output_type": "stream",
     "text": [
      "Uploaded Chunks [####################]100.00%     48.0bytes/48.0bytes /tmp/tmp8jDsXi Done...\n",
      "Upload completed in 3 seconds.\n",
      " [####################]100.00%     1/1  Done...\n",
      "    "
     ]
    }
   ],
   "source": [
    "new_rows = [[\"Y000025\", \"F\", 1, 3, False],\n",
    "            [\"Z900909\", \"M\", 4, 2, False]]\n",
    "table = syn.store(Table(schema, new_rows))"
   ]
  },
  {
   "cell_type": "markdown",
   "metadata": {},
   "source": [
    "**Updating** rows requires an etag, which identifies the most recent change set plus row IDs and version numbers for each row to be modified. We get those by querying before updating. Minimizing changesets to contain only rows that actually change will make processing faster."
   ]
  },
  {
   "cell_type": "code",
   "execution_count": 30,
   "metadata": {
    "collapsed": false
   },
   "outputs": [
    {
     "name": "stdout",
     "output_type": "stream",
     "text": [
      " [####################]100.00%     1/1  Done...\n",
      "Downloaded   [####################]100.00%     417.0bytes/417.0bytes query_results.csv Done...\n",
      "    "
     ]
    }
   ],
   "source": [
    "results = syn.tableQuery(\"select * from %s where PROTOCOL=1\" %table.schema.id)\n",
    "df = results.asDataFrame()\n",
    "df['YEAR'] = [3,2,2,3,2,2,3,3,4]\n",
    "\n",
    "##Note: The etag is propogated from the query results. Without it, an “Invalid etag” will generate."
   ]
  },
  {
   "cell_type": "code",
   "execution_count": 31,
   "metadata": {
    "collapsed": false
   },
   "outputs": [
    {
     "name": "stdout",
     "output_type": "stream",
     "text": [
      "Uploaded Chunks [####################]100.00%     277.0bytes/277.0bytes /tmp/tmpHuf2OD Done...\n",
      "Upload completed in 3 seconds.\n",
      " [####################]100.00%     1/1  Done...\n",
      "    "
     ]
    }
   ],
   "source": [
    "table = syn.store(Table(schema, df, etag=results.etag))"
   ]
  },
  {
   "cell_type": "markdown",
   "metadata": {},
   "source": [
    "### Changing Table Structure"
   ]
  },
  {
   "cell_type": "markdown",
   "metadata": {},
   "source": [
    "Adding columns can be done using the methods ***Schema.addColumn()*** or ***addColumns()*** on the Schema object:"
   ]
  },
  {
   "cell_type": "code",
   "execution_count": 32,
   "metadata": {
    "collapsed": false
   },
   "outputs": [],
   "source": [
    "visit_data_column = syn.store(Column(name='VISIT_DATE', columnType='DATE'))\n",
    "schema.addColumn(visit_data_column)\n",
    "schema = syn.store(schema)"
   ]
  },
  {
   "cell_type": "code",
   "execution_count": 33,
   "metadata": {
    "collapsed": false
   },
   "outputs": [],
   "source": [
    "###Renaming or otherwise modifying a column involves removing the column and adding a new column:###\n",
    "cols = syn.getTableColumns(schema)\n",
    "for col in cols:\n",
    "    if col.name == \"VISIT_DATE\":\n",
    "        schema.removeColumn(col)\n",
    "bday_column2 = syn.store(Column(name='DOV', columnType='DATE'))\n",
    "schema.addColumn(bday_column2)\n",
    "schema = syn.store(schema)"
   ]
  },
  {
   "cell_type": "markdown",
   "metadata": {},
   "source": [
    "### Table attached files"
   ]
  },
  {
   "cell_type": "markdown",
   "metadata": {},
   "source": [
    "Synapse tables support a special column type called ‘File’ which contain a file handle, an identifier of a file stored in Synapse. Here’s an example of how to upload files into Synapse, associate them with a table and read them back later.\n",
    "\n",
    "This feature could potentially be a method to store scan data on Synapse.\n",
    "\n",
    "Demo code available here:\n",
    "http://python-docs.synapse.org/Table.html#table-attached-files"
   ]
  },
  {
   "cell_type": "markdown",
   "metadata": {},
   "source": [
    "### Deleting Rows"
   ]
  },
  {
   "cell_type": "markdown",
   "metadata": {},
   "source": [
    "Query for the rows you want to delete and call syn.delete on the results:"
   ]
  },
  {
   "cell_type": "code",
   "execution_count": 34,
   "metadata": {
    "collapsed": false
   },
   "outputs": [
    {
     "name": "stdout",
     "output_type": "stream",
     "text": [
      " [####################]100.00%     1/1  Done...\n",
      "Downloaded   [####################]100.00%     121.0bytes/121.0bytes query_results.csv Done...\n",
      "    "
     ]
    }
   ],
   "source": [
    "results = syn.tableQuery(\"select * from %s where PROTOCOL='4'\" %table.schema.id)\n",
    "a = syn.delete(results.asRowSet())"
   ]
  },
  {
   "cell_type": "markdown",
   "metadata": {},
   "source": [
    "### Deleting Tables"
   ]
  },
  {
   "cell_type": "markdown",
   "metadata": {},
   "source": [
    "Deleting the schema deletes the whole table and all rows:"
   ]
  },
  {
   "cell_type": "code",
   "execution_count": 26,
   "metadata": {
    "collapsed": true
   },
   "outputs": [],
   "source": [
    "syn.delete(schema)"
   ]
  },
  {
   "cell_type": "markdown",
   "metadata": {},
   "source": [
    "## Permissions and Controlling Access "
   ]
  },
  {
   "cell_type": "markdown",
   "metadata": {},
   "source": [
    "By default, data sets in Synapse are private to the user account.\n",
    "\n",
    "The following function allows one to view the permissions a specific user has for a specific data set:\n",
    "\n",
    "    Synapse.getPermissions(entity, principalId=None)\n",
    "\n",
    "The following function allows one to set the permissions for a specific user in regards to a specific data set:\n",
    "\n",
    "    Synapse.setPermissions(entity, principalId=None, accessType=[u'READ'], modify_benefactor=False, warn_if_inherits=True, overwrite=True)\n",
    "    \n",
    "Parameters:\t\n",
    "\n",
    "* entity – An Entity or Synapse ID to lookup or modify\n",
    "* principalId – Identifier of a user or group\n",
    "* accessType – Type of permission to be granted\n",
    "* modify_benefactor – Set as True when modifying a benefactor’s ACL\n",
    "* warn_if_inherits – Set as False, when creating a new ACL. Trying to modify the ACL of an Entity that inherits its ACL will result in a warning\n",
    "* overwrite – By default this function overwrites existing permissions for the specified user. Set this flag to False to add new permissions nondestructively.\n"
   ]
  }
 ],
 "metadata": {
  "kernelspec": {
   "display_name": "Python 2",
   "language": "python",
   "name": "python2"
  },
  "language_info": {
   "codemirror_mode": {
    "name": "ipython",
    "version": 2
   },
   "file_extension": ".py",
   "mimetype": "text/x-python",
   "name": "python",
   "nbconvert_exporter": "python",
   "pygments_lexer": "ipython2",
   "version": "2.7.10"
  }
 },
 "nbformat": 4,
 "nbformat_minor": 0
}
