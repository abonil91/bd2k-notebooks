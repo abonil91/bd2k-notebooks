{
 "cells": [
  {
   "cell_type": "markdown",
   "metadata": {},
   "source": [
    "# Demo of Synapse API"
   ]
  },
  {
   "cell_type": "markdown",
   "metadata": {},
   "source": [
    "## Log onto Synapse"
   ]
  },
  {
   "cell_type": "markdown",
   "metadata": {},
   "source": [
    "This is the code used to Log onto Synapse"
   ]
  },
  {
   "cell_type": "code",
   "execution_count": 1,
   "metadata": {
    "collapsed": false
   },
   "outputs": [
    {
     "name": "stdout",
     "output_type": "stream",
     "text": [
      "Welcome, abonil91!\n"
     ]
    }
   ],
   "source": [
    "import os\n",
    "import synapseclient\n",
    "import yaml\n",
    "\n",
    "syn = synapseclient.Synapse()\n",
    "\n",
    "config = yaml.load(open(os.path.join(os.path.expanduser(\"~\"),\".server_config/synapse.cfg\")))\n",
    "\n",
    "syn.login(config.get('user'), config.get('password'))"
   ]
  },
  {
   "cell_type": "markdown",
   "metadata": {},
   "source": [
    "## Uploading Data to the NCANDA Project"
   ]
  },
  {
   "cell_type": "markdown",
   "metadata": {},
   "source": [
    "This notebook demonstrates how to upload files to the NCANDA Project using the Synapse API for Python."
   ]
  },
  {
   "cell_type": "markdown",
   "metadata": {},
   "source": [
    "First, the necessary libaries are importated."
   ]
  },
  {
   "cell_type": "code",
   "execution_count": 2,
   "metadata": {
    "collapsed": true
   },
   "outputs": [],
   "source": [
    "from synapseclient import Project, Folder, File"
   ]
  },
  {
   "cell_type": "markdown",
   "metadata": {},
   "source": [
    "The Code to Create a Project:\n",
    "\n",
    "    project = Project('My uniquely named project')\n",
    "    project = syn.store(project)\n",
    "\n",
    "The Code to Create a File:\n",
    "\n",
    "    data_folder = Folder('Data', parent=project)\n",
    "    data_folder = syn.store(data_folder)\n",
    "\n",
    "The Code to Add File:\n",
    "\n",
    "       test_entity = File('/path/to/data/file.xyz', description='Fancy new data', parent=data_folder)\n",
    "       test_entity = syn.store(test_entity)"
   ]
  },
  {
   "cell_type": "markdown",
   "metadata": {
    "collapsed": false
   },
   "source": [
    "### Example Upload "
   ]
  },
  {
   "cell_type": "code",
   "execution_count": 20,
   "metadata": {
    "collapsed": false
   },
   "outputs": [
    {
     "name": "stdout",
     "output_type": "stream",
     "text": [
      "\n",
      "##################################################\n",
      " Uploading file to Synapse storage \n",
      "##################################################\n",
      "Uploaded Chunks [####################]100.00%     23.0bytes/23.0bytes ./examplefile.csv Done...\n",
      "Upload completed in 3 seconds.\n"
     ]
    }
   ],
   "source": [
    "###Select Project###\n",
    "project = syn.get('syn3565171')\n",
    "\n",
    "###Creating Folder in Project###\n",
    "data_folder = Folder('Example_Upload', parent=project)\n",
    "data_folder = syn.store(data_folder)\n",
    "\n",
    "###Uploading File###\n",
    "example = File('./examplefile.csv', description = \"Example CSV File Upload\", parent = data_folder)\n",
    "example = syn.store(example)"
   ]
  },
  {
   "cell_type": "markdown",
   "metadata": {},
   "source": [
    "## Permissions and Controlling Access "
   ]
  },
  {
   "cell_type": "markdown",
   "metadata": {},
   "source": [
    "By default, data sets in Synapse are private to the user account.\n",
    "\n",
    "The following function allows one to view the permissions a specific user has for a specific data set:\n",
    "\n",
    "    Synapse.getPermissions(entity, principalId=None)\n",
    "\n",
    "The following function allows one to set the permissions for a specific user in regards to a specific data set:\n",
    "\n",
    "    Synapse.setPermissions(entity, principalId=None, accessType=[u'READ'], modify_benefactor=False, warn_if_inherits=True, overwrite=True)\n",
    "    \n",
    "Parameters:\t\n",
    "\n",
    "* entity – An Entity or Synapse ID to lookup or modify\n",
    "* principalId – Identifier of a user or group\n",
    "* accessType – Type of permission to be granted\n",
    "* modify_benefactor – Set as True when modifying a benefactor’s ACL\n",
    "* warn_if_inherits – Set as False, when creating a new ACL. Trying to modify the ACL of an Entity that inherits its ACL will result in a warning\n",
    "* overwrite – By default this function overwrites existing permissions for the specified user. Set this flag to False to add new permissions nondestructively.\n"
   ]
  }
 ],
 "metadata": {
  "kernelspec": {
   "display_name": "Python 2",
   "language": "python",
   "name": "python2"
  },
  "language_info": {
   "codemirror_mode": {
    "name": "ipython",
    "version": 2
   },
   "file_extension": ".py",
   "mimetype": "text/x-python",
   "name": "python",
   "nbconvert_exporter": "python",
   "pygments_lexer": "ipython2",
   "version": "2.7.10"
  }
 },
 "nbformat": 4,
 "nbformat_minor": 0
}
